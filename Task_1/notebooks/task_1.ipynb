{
 "cells": [
  {
   "metadata": {},
   "cell_type": "markdown",
   "source": [
    "# Task 1 for Winstars AI DS internship test\n",
    "#### Author: `Dmytro Avdieienko`"
   ],
   "id": "3b437df7968a5c79"
  },
  {
   "metadata": {},
   "cell_type": "markdown",
   "source": "Import required libraries\n",
   "id": "dd4edbe638c5acb8"
  },
  {
   "metadata": {
    "ExecuteTime": {
     "end_time": "2025-02-23T22:17:20.372011Z",
     "start_time": "2025-02-23T22:17:17.618219Z"
    }
   },
   "cell_type": "code",
   "source": [
    "# Import required libraries\n",
    "import numpy as np\n",
    "from sklearn.ensemble import RandomForestClassifier\n",
    "from sklearn.preprocessing import StandardScaler\n",
    "import tensorflow as tf\n",
    "from tensorflow.keras import layers, models\n",
    "from abc import ABC, abstractmethod\n",
    "from sklearn.model_selection import learning_curve\n",
    "import matplotlib.pyplot as plt"
   ],
   "id": "880f432b12072c7c",
   "outputs": [],
   "execution_count": 1
  },
  {
   "metadata": {},
   "cell_type": "markdown",
   "source": [
    "## Abstract class\n",
    "\n",
    "Defining abstract class and interface for MNIST Classifiers"
   ],
   "id": "698c76906a9d08cf"
  },
  {
   "metadata": {
    "ExecuteTime": {
     "end_time": "2025-02-23T22:17:22.828892Z",
     "start_time": "2025-02-23T22:17:22.812874Z"
    }
   },
   "cell_type": "code",
   "source": [
    "# Abstract class for interface definition\n",
    "class MnistClassifierInterface(ABC):\n",
    "    @abstractmethod\n",
    "    def train(self, x_train, y_train):\n",
    "        pass\n",
    "\n",
    "    @abstractmethod\n",
    "    def predict(self, x_test):\n",
    "        pass"
   ],
   "id": "194b3cfce642de95",
   "outputs": [],
   "execution_count": 2
  },
  {
   "metadata": {},
   "cell_type": "markdown",
   "source": "## Random Forest Classifier",
   "id": "74268e80c1fdd7f3"
  },
  {
   "metadata": {
    "ExecuteTime": {
     "end_time": "2025-02-23T22:17:30.090773Z",
     "start_time": "2025-02-23T22:17:30.083438Z"
    }
   },
   "cell_type": "code",
   "source": [
    "class RFClassifier(MnistClassifierInterface):\n",
    "    def __init__(self, n_estimators=100, random_state=None):\n",
    "        \"\"\"\n",
    "        Initialize Random Forest classifier\n",
    "\n",
    "        Parameters:\n",
    "        n_estimators (int): Number of trees in the forest\n",
    "        random_state (int): Random state for reproducibility\n",
    "        \"\"\"\n",
    "        self.model = RandomForestClassifier(\n",
    "            n_estimators=n_estimators,\n",
    "            random_state=random_state,\n",
    "            n_jobs=-1  # For parallel computation\n",
    "        )\n",
    "        self.scaler = StandardScaler()\n",
    "\n",
    "    def train(self, x_train, y_train):\n",
    "        # Reshaping into flat vector\n",
    "        x_train_flat = x_train.reshape(x_train.shape[0], -1)\n",
    "        self.model.fit(x_train_flat, y_train)\n",
    "\n",
    "    def predict(self, x_test):\n",
    "        x_test_flat = x_test.reshape(x_test.shape[0], -1)\n",
    "        return self.model.predict(x_test_flat)"
   ],
   "id": "4f9a951551521166",
   "outputs": [],
   "execution_count": 3
  },
  {
   "metadata": {},
   "cell_type": "markdown",
   "source": "### Load and prepare data",
   "id": "33ca5de1b908dd4b"
  },
  {
   "metadata": {
    "ExecuteTime": {
     "end_time": "2025-02-23T21:49:26.021015Z",
     "start_time": "2025-02-23T21:49:25.826522Z"
    }
   },
   "cell_type": "code",
   "source": [
    "# Load MNIST dataset\n",
    "(x_train, y_train), (x_test, y_test) = tf.keras.datasets.mnist.load_data()\n",
    "\n",
    "# See shapes\n",
    "print('X_train: ' + str(x_train.shape))\n",
    "print('Y_train: ' + str(y_train.shape))\n",
    "print('X_test:  '  + str(x_test.shape))\n",
    "print('Y_test:  '  + str(y_test.shape))"
   ],
   "id": "9c09cf2a909881d0",
   "outputs": [
    {
     "name": "stdout",
     "output_type": "stream",
     "text": [
      "X_train: (60000, 28, 28)\n",
      "Y_train: (60000,)\n",
      "X_test:  (10000, 28, 28)\n",
      "Y_test:  (10000,)\n"
     ]
    }
   ],
   "execution_count": 4
  },
  {
   "metadata": {
    "ExecuteTime": {
     "end_time": "2025-02-23T21:49:26.316361Z",
     "start_time": "2025-02-23T21:49:26.037040Z"
    }
   },
   "cell_type": "code",
   "source": [
    "# See pictures from dataset\n",
    "plt.figure(figsize=(5, 5))\n",
    "for i in range(9):\n",
    "    plt.subplot(330 + 1 + i)\n",
    "    plt.imshow(x_train[i], cmap=plt.get_cmap('gray'))\n",
    "plt.show()"
   ],
   "id": "a81b931cd1daf927",
   "outputs": [
    {
     "data": {
      "text/plain": [
       "<Figure size 500x500 with 9 Axes>"
      ],
      "image/png": "[encoded data removed]"
     },
     "metadata": {},
     "output_type": "display_data"
    }
   ],
   "execution_count": 5
  },
  {
   "metadata": {
    "ExecuteTime": {
     "end_time": "2025-02-23T21:49:26.503557Z",
     "start_time": "2025-02-23T21:49:26.334361Z"
    }
   },
   "cell_type": "code",
   "source": [
    "# Normalize pixel values\n",
    "if x_train.max() > 1.0:  # check if already normalized\n",
    "    x_train = x_train / 255.0\n",
    "    x_test = x_test / 255.0"
   ],
   "id": "7258df8d00dd1bc6",
   "outputs": [],
   "execution_count": 6
  },
  {
   "metadata": {},
   "cell_type": "markdown",
   "source": "### Train and predict",
   "id": "bd3adcd4cb1081cd"
  },
  {
   "metadata": {
    "ExecuteTime": {
     "end_time": "2025-02-23T21:49:32.217598Z",
     "start_time": "2025-02-23T21:49:26.522607Z"
    }
   },
   "cell_type": "code",
   "source": [
    "# Initialize and train RF classifier\n",
    "rf_clf = RFClassifier()\n",
    "rf_clf.train(x_train, y_train)"
   ],
   "id": "ca6a2a6a3540e005",
   "outputs": [],
   "execution_count": 7
  },
  {
   "metadata": {
    "ExecuteTime": {
     "end_time": "2025-02-23T21:49:32.382459Z",
     "start_time": "2025-02-23T21:49:32.253445Z"
    }
   },
   "cell_type": "code",
   "source": [
    "# Make predictions\n",
    "y_predicted = rf_clf.predict(x_test)\n",
    "\n",
    "# Calculate accuracy\n",
    "accuracy = np.mean(y_predicted == y_test)\n",
    "print(f\"Test accuracy: {accuracy:.4f}\")"
   ],
   "id": "1b3b1802fa907220",
   "outputs": [
    {
     "name": "stdout",
     "output_type": "stream",
     "text": [
      "Test accuracy: 0.9706\n"
     ]
    }
   ],
   "execution_count": 8
  },
  {
   "metadata": {},
   "cell_type": "markdown",
   "source": "## Feed-Forward Neural Network Classifier",
   "id": "86e2594948975a65"
  },
  {
   "metadata": {
    "ExecuteTime": {
     "end_time": "2025-02-23T22:17:37.394631Z",
     "start_time": "2025-02-23T22:17:37.378625Z"
    }
   },
   "cell_type": "code",
   "source": [
    "class NNClassifier(MnistClassifierInterface):\n",
    "    def __init__(self):\n",
    "        self.model = tf.keras.Sequential([\n",
    "            tf.keras.layers.Flatten(input_shape=(28, 28)),\n",
    "            tf.keras.layers.Dense(64, activation='relu'),\n",
    "            tf.keras.layers.Dropout(0.2),\n",
    "            tf.keras.layers.Dense(128, activation='relu'),\n",
    "            tf.keras.layers.Dropout(0.2),\n",
    "            tf.keras.layers.Dense(10, activation='softmax')\n",
    "        ])\n",
    "        self.model.compile(optimizer='adam',\n",
    "                           loss='sparse_categorical_crossentropy',\n",
    "                           metrics=['accuracy'])\n",
    "        self.history = None\n",
    "\n",
    "    def train(self, x_train, y_train):\n",
    "        self.model.fit(x_train, y_train, epochs=10)\n",
    "\n",
    "    def predict(self, x_test):\n",
    "        return self.model.predict(x_test).argmax(axis=1)\n",
    "\n",
    "    def train_with_validation(self, x_train, y_train, x_val, y_val):\n",
    "        # extended version with history for tracking overfitting\n",
    "        history = self.model.fit(\n",
    "            x_train, y_train,\n",
    "            validation_data=(x_val, y_val),\n",
    "            epochs=50,\n",
    "            verbose=1\n",
    "        )\n",
    "        self.history = history.history\n",
    "\n",
    "    def plot_learning_curves(self):\n",
    "        plt.figure(figsize=(10, 6))\n",
    "        plt.plot(self.history['accuracy'], label='Training accuracy')\n",
    "        plt.plot(self.history['val_accuracy'], label='Validation accuracy')\n",
    "        plt.xlabel('Epoch')\n",
    "        plt.ylabel('Accuracy')\n",
    "        plt.title('Learning Curves for Neural Network')\n",
    "        plt.legend()\n",
    "        plt.grid(True)\n",
    "        plt.show()"
   ],
   "id": "b78fc711d67222e8",
   "outputs": [],
   "execution_count": 4
  },
  {
   "metadata": {},
   "cell_type": "markdown",
   "source": "### Load and prepare data",
   "id": "e6c89841f9b24939"
  },
  {
   "metadata": {
    "ExecuteTime": {
     "end_time": "2025-02-23T21:49:32.627108Z",
     "start_time": "2025-02-23T21:49:32.436495Z"
    }
   },
   "cell_type": "code",
   "source": [
    "# Load MNIST dataset\n",
    "(x_train, y_train), (x_test, y_test) = tf.keras.datasets.mnist.load_data()\n",
    "\n",
    "# See shapes\n",
    "print('X_train: ' + str(x_train.shape))\n",
    "print('Y_train: ' + str(y_train.shape))\n",
    "print('X_test:  '  + str(x_test.shape))\n",
    "print('Y_test:  '  + str(y_test.shape))"
   ],
   "id": "dc8b1f8ab56ad1cb",
   "outputs": [
    {
     "name": "stdout",
     "output_type": "stream",
     "text": [
      "X_train: (60000, 28, 28)\n",
      "Y_train: (60000,)\n",
      "X_test:  (10000, 28, 28)\n",
      "Y_test:  (10000,)\n"
     ]
    }
   ],
   "execution_count": 10
  },
  {
   "metadata": {
    "ExecuteTime": {
     "end_time": "2025-02-23T21:49:33.044111Z",
     "start_time": "2025-02-23T21:49:32.627108Z"
    }
   },
   "cell_type": "code",
   "source": [
    "# See pictures from dataset\n",
    "plt.figure(figsize=(5, 5))\n",
    "for i in range(9):\n",
    "    plt.subplot(330 + 1 + i)\n",
    "    plt.imshow(x_train[i], cmap=plt.get_cmap('gray'))\n",
    "plt.show()"
   ],
   "id": "cd22b88cbd48ddae",
   "outputs": [
    {
     "data": {
      "text/plain": [
       "<Figure size 500x500 with 9 Axes>"
      ],
      "image/png": "[encoded data removed]"
     },
     "metadata": {},
     "output_type": "display_data"
    }
   ],
   "execution_count": 11
  },
  {
   "metadata": {
    "ExecuteTime": {
     "end_time": "2025-02-23T21:49:33.218466Z",
     "start_time": "2025-02-23T21:49:33.060108Z"
    }
   },
   "cell_type": "code",
   "source": [
    "# Normalize pixel values\n",
    "if x_train.max() > 1.0:  # check if already normalized\n",
    "    x_train = x_train / 255.0\n",
    "    x_test = x_test / 255.0"
   ],
   "id": "7765dbd74696bbe7",
   "outputs": [],
   "execution_count": 12
  },
  {
   "metadata": {},
   "cell_type": "markdown",
   "source": "### Train and predict",
   "id": "ce11415491a45f25"
  },
  {
   "metadata": {
    "ExecuteTime": {
     "end_time": "2025-02-23T21:51:16.987668Z",
     "start_time": "2025-02-23T21:49:33.234237Z"
    }
   },
   "cell_type": "code",
   "source": [
    "# Initialize and train NN classifier\n",
    "nn_clf = NNClassifier()\n",
    "nn_clf.train(x_train, y_train)"
   ],
   "id": "ecd1585c963aea0f",
   "outputs": [
    {
     "name": "stdout",
     "output_type": "stream",
     "text": [
      "Epoch 1/10\n",
      "1875/1875 [==============================] - 8s 4ms/step - loss: 0.3689 - accuracy: 0.8880\n",
      "Epoch 2/10\n",
      "1875/1875 [==============================] - 10s 5ms/step - loss: 0.1909 - accuracy: 0.9424\n",
      "Epoch 3/10\n",
      "1875/1875 [==============================] - 10s 6ms/step - loss: 0.1502 - accuracy: 0.9553\n",
      "Epoch 4/10\n",
      "1875/1875 [==============================] - 10s 6ms/step - loss: 0.1321 - accuracy: 0.9601\n",
      "Epoch 5/10\n",
      "1875/1875 [==============================] - 11s 6ms/step - loss: 0.1211 - accuracy: 0.9623\n",
      "Epoch 6/10\n",
      "1875/1875 [==============================] - 11s 6ms/step - loss: 0.1104 - accuracy: 0.9660\n",
      "Epoch 7/10\n",
      "1875/1875 [==============================] - 11s 6ms/step - loss: 0.1046 - accuracy: 0.9668\n",
      "Epoch 8/10\n",
      "1875/1875 [==============================] - 11s 6ms/step - loss: 0.1013 - accuracy: 0.9685\n",
      "Epoch 9/10\n",
      "1875/1875 [==============================] - 11s 6ms/step - loss: 0.0953 - accuracy: 0.9699\n",
      "Epoch 10/10\n",
      "1875/1875 [==============================] - 10s 6ms/step - loss: 0.0912 - accuracy: 0.9711\n"
     ]
    }
   ],
   "execution_count": 13
  },
  {
   "metadata": {
    "ExecuteTime": {
     "end_time": "2025-02-23T21:51:19.073733Z",
     "start_time": "2025-02-23T21:51:17.072192Z"
    }
   },
   "cell_type": "code",
   "source": [
    "# Make predictions\n",
    "y_predicted = nn_clf.predict(x_test)\n",
    "\n",
    "# Calculate accuracy\n",
    "accuracy = np.mean(y_predicted == y_test)\n",
    "print(f\"Test accuracy: {accuracy:.4f}\")"
   ],
   "id": "8a906b954c148ad2",
   "outputs": [
    {
     "name": "stdout",
     "output_type": "stream",
     "text": [
      "313/313 [==============================] - 2s 4ms/step\n",
      "Test accuracy: 0.9730\n"
     ]
    }
   ],
   "execution_count": 14
  },
  {
   "metadata": {},
   "cell_type": "markdown",
   "source": "### Visualisation of learning curves",
   "id": "ea0dc3b9bcb0451c"
  },
  {
   "metadata": {
    "ExecuteTime": {
     "end_time": "2025-02-23T21:59:16.862511Z",
     "start_time": "2025-02-23T21:51:19.094239Z"
    }
   },
   "cell_type": "code",
   "source": [
    "# Initialize and train NN classifier\n",
    "nn_clf_2 = NNClassifier()\n",
    "nn_clf_2.train_with_validation(x_train, y_train, x_test, y_test)"
   ],
   "id": "9b0bffe29c8dc363",
   "outputs": [
    {
     "name": "stdout",
     "output_type": "stream",
     "text": [
      "Epoch 1/50\n",
      "1875/1875 [==============================] - 13s 6ms/step - loss: 0.3655 - accuracy: 0.8889 - val_loss: 0.1608 - val_accuracy: 0.9514\n",
      "Epoch 2/50\n",
      "1875/1875 [==============================] - 11s 6ms/step - loss: 0.1923 - accuracy: 0.9425 - val_loss: 0.1138 - val_accuracy: 0.9653\n",
      "Epoch 3/50\n",
      "1875/1875 [==============================] - 12s 6ms/step - loss: 0.1539 - accuracy: 0.9531 - val_loss: 0.1050 - val_accuracy: 0.9676\n",
      "Epoch 4/50\n",
      "1875/1875 [==============================] - 12s 6ms/step - loss: 0.1337 - accuracy: 0.9582 - val_loss: 0.0964 - val_accuracy: 0.9697\n",
      "Epoch 5/50\n",
      "1875/1875 [==============================] - 12s 6ms/step - loss: 0.1209 - accuracy: 0.9629 - val_loss: 0.0952 - val_accuracy: 0.9707\n",
      "Epoch 6/50\n",
      "1875/1875 [==============================] - 10s 5ms/step - loss: 0.1093 - accuracy: 0.9668 - val_loss: 0.0899 - val_accuracy: 0.9736\n",
      "Epoch 7/50\n",
      "1875/1875 [==============================] - 9s 5ms/step - loss: 0.1028 - accuracy: 0.9679 - val_loss: 0.0858 - val_accuracy: 0.9737\n",
      "Epoch 8/50\n",
      "1875/1875 [==============================] - 9s 5ms/step - loss: 0.0983 - accuracy: 0.9690 - val_loss: 0.0874 - val_accuracy: 0.9730\n",
      "Epoch 9/50\n",
      "1875/1875 [==============================] - 9s 5ms/step - loss: 0.0921 - accuracy: 0.9700 - val_loss: 0.0830 - val_accuracy: 0.9765\n",
      "Epoch 10/50\n",
      "1875/1875 [==============================] - 9s 5ms/step - loss: 0.0904 - accuracy: 0.9711 - val_loss: 0.0864 - val_accuracy: 0.9759\n",
      "Epoch 11/50\n",
      "1875/1875 [==============================] - 9s 5ms/step - loss: 0.0868 - accuracy: 0.9724 - val_loss: 0.0802 - val_accuracy: 0.9753\n",
      "Epoch 12/50\n",
      "1875/1875 [==============================] - 9s 5ms/step - loss: 0.0818 - accuracy: 0.9739 - val_loss: 0.0863 - val_accuracy: 0.9746\n",
      "Epoch 13/50\n",
      "1875/1875 [==============================] - 9s 5ms/step - loss: 0.0808 - accuracy: 0.9745 - val_loss: 0.0874 - val_accuracy: 0.9753\n",
      "Epoch 14/50\n",
      "1875/1875 [==============================] - 9s 5ms/step - loss: 0.0794 - accuracy: 0.9741 - val_loss: 0.0797 - val_accuracy: 0.9742\n",
      "Epoch 15/50\n",
      "1875/1875 [==============================] - 10s 5ms/step - loss: 0.0749 - accuracy: 0.9755 - val_loss: 0.0836 - val_accuracy: 0.9754\n",
      "Epoch 16/50\n",
      "1875/1875 [==============================] - 9s 5ms/step - loss: 0.0726 - accuracy: 0.9766 - val_loss: 0.0844 - val_accuracy: 0.9761\n",
      "Epoch 17/50\n",
      "1875/1875 [==============================] - 9s 5ms/step - loss: 0.0731 - accuracy: 0.9763 - val_loss: 0.0858 - val_accuracy: 0.9758\n",
      "Epoch 18/50\n",
      "1875/1875 [==============================] - 10s 5ms/step - loss: 0.0696 - accuracy: 0.9778 - val_loss: 0.0823 - val_accuracy: 0.9780\n",
      "Epoch 19/50\n",
      "1875/1875 [==============================] - 10s 5ms/step - loss: 0.0682 - accuracy: 0.9778 - val_loss: 0.0837 - val_accuracy: 0.9780\n",
      "Epoch 20/50\n",
      "1875/1875 [==============================] - 9s 5ms/step - loss: 0.0687 - accuracy: 0.9772 - val_loss: 0.0834 - val_accuracy: 0.9773\n",
      "Epoch 21/50\n",
      "1875/1875 [==============================] - 9s 5ms/step - loss: 0.0658 - accuracy: 0.9785 - val_loss: 0.0832 - val_accuracy: 0.9769\n",
      "Epoch 22/50\n",
      "1875/1875 [==============================] - 9s 5ms/step - loss: 0.0661 - accuracy: 0.9788 - val_loss: 0.0843 - val_accuracy: 0.9786\n",
      "Epoch 23/50\n",
      "1875/1875 [==============================] - 9s 5ms/step - loss: 0.0619 - accuracy: 0.9806 - val_loss: 0.0947 - val_accuracy: 0.9758\n",
      "Epoch 24/50\n",
      "1875/1875 [==============================] - 9s 5ms/step - loss: 0.0633 - accuracy: 0.9792 - val_loss: 0.0866 - val_accuracy: 0.9779\n",
      "Epoch 25/50\n",
      "1875/1875 [==============================] - 9s 5ms/step - loss: 0.0622 - accuracy: 0.9800 - val_loss: 0.0926 - val_accuracy: 0.9753\n",
      "Epoch 26/50\n",
      "1875/1875 [==============================] - 10s 5ms/step - loss: 0.0629 - accuracy: 0.9799 - val_loss: 0.0836 - val_accuracy: 0.9764\n",
      "Epoch 27/50\n",
      "1875/1875 [==============================] - 9s 5ms/step - loss: 0.0585 - accuracy: 0.9811 - val_loss: 0.0878 - val_accuracy: 0.9748\n",
      "Epoch 28/50\n",
      "1875/1875 [==============================] - 9s 5ms/step - loss: 0.0563 - accuracy: 0.9820 - val_loss: 0.0842 - val_accuracy: 0.9773\n",
      "Epoch 29/50\n",
      "1875/1875 [==============================] - 9s 5ms/step - loss: 0.0593 - accuracy: 0.9804 - val_loss: 0.0866 - val_accuracy: 0.9774\n",
      "Epoch 30/50\n",
      "1875/1875 [==============================] - 9s 5ms/step - loss: 0.0582 - accuracy: 0.9811 - val_loss: 0.0967 - val_accuracy: 0.9758\n",
      "Epoch 31/50\n",
      "1875/1875 [==============================] - 10s 5ms/step - loss: 0.0573 - accuracy: 0.9816 - val_loss: 0.0868 - val_accuracy: 0.9786\n",
      "Epoch 32/50\n",
      "1875/1875 [==============================] - 9s 5ms/step - loss: 0.0564 - accuracy: 0.9813 - val_loss: 0.0920 - val_accuracy: 0.9781\n",
      "Epoch 33/50\n",
      "1875/1875 [==============================] - 9s 5ms/step - loss: 0.0569 - accuracy: 0.9814 - val_loss: 0.0886 - val_accuracy: 0.9771\n",
      "Epoch 34/50\n",
      "1875/1875 [==============================] - 9s 5ms/step - loss: 0.0539 - accuracy: 0.9825 - val_loss: 0.0961 - val_accuracy: 0.9768\n",
      "Epoch 35/50\n",
      "1875/1875 [==============================] - 9s 5ms/step - loss: 0.0550 - accuracy: 0.9815 - val_loss: 0.0896 - val_accuracy: 0.9783\n",
      "Epoch 36/50\n",
      "1875/1875 [==============================] - 9s 5ms/step - loss: 0.0569 - accuracy: 0.9813 - val_loss: 0.0868 - val_accuracy: 0.9794\n",
      "Epoch 37/50\n",
      "1875/1875 [==============================] - 9s 5ms/step - loss: 0.0550 - accuracy: 0.9827 - val_loss: 0.0862 - val_accuracy: 0.9792\n",
      "Epoch 38/50\n",
      "1875/1875 [==============================] - 10s 5ms/step - loss: 0.0526 - accuracy: 0.9829 - val_loss: 0.0954 - val_accuracy: 0.9778\n",
      "Epoch 39/50\n",
      "1875/1875 [==============================] - 10s 5ms/step - loss: 0.0540 - accuracy: 0.9826 - val_loss: 0.0938 - val_accuracy: 0.9782\n",
      "Epoch 40/50\n",
      "1875/1875 [==============================] - 10s 5ms/step - loss: 0.0515 - accuracy: 0.9833 - val_loss: 0.0984 - val_accuracy: 0.9781\n",
      "Epoch 41/50\n",
      "1875/1875 [==============================] - 9s 5ms/step - loss: 0.0545 - accuracy: 0.9832 - val_loss: 0.0979 - val_accuracy: 0.9772\n",
      "Epoch 42/50\n",
      "1875/1875 [==============================] - 10s 5ms/step - loss: 0.0517 - accuracy: 0.9835 - val_loss: 0.0893 - val_accuracy: 0.9770\n",
      "Epoch 43/50\n",
      "1875/1875 [==============================] - 9s 5ms/step - loss: 0.0488 - accuracy: 0.9841 - val_loss: 0.0963 - val_accuracy: 0.9773\n",
      "Epoch 44/50\n",
      "1875/1875 [==============================] - 9s 5ms/step - loss: 0.0547 - accuracy: 0.9829 - val_loss: 0.0969 - val_accuracy: 0.9771\n",
      "Epoch 45/50\n",
      "1875/1875 [==============================] - 10s 5ms/step - loss: 0.0519 - accuracy: 0.9840 - val_loss: 0.0957 - val_accuracy: 0.9770\n",
      "Epoch 46/50\n",
      "1875/1875 [==============================] - 9s 5ms/step - loss: 0.0484 - accuracy: 0.9845 - val_loss: 0.0930 - val_accuracy: 0.9772\n",
      "Epoch 47/50\n",
      "1875/1875 [==============================] - 9s 5ms/step - loss: 0.0528 - accuracy: 0.9829 - val_loss: 0.0947 - val_accuracy: 0.9779\n",
      "Epoch 48/50\n",
      "1875/1875 [==============================] - 9s 5ms/step - loss: 0.0496 - accuracy: 0.9846 - val_loss: 0.0948 - val_accuracy: 0.9776\n",
      "Epoch 49/50\n",
      "1875/1875 [==============================] - 9s 5ms/step - loss: 0.0477 - accuracy: 0.9845 - val_loss: 0.1016 - val_accuracy: 0.9771\n",
      "Epoch 50/50\n",
      "1875/1875 [==============================] - 9s 5ms/step - loss: 0.0477 - accuracy: 0.9842 - val_loss: 0.0963 - val_accuracy: 0.9779\n"
     ]
    }
   ],
   "execution_count": 15
  },
  {
   "metadata": {
    "ExecuteTime": {
     "end_time": "2025-02-23T21:59:18.572244Z",
     "start_time": "2025-02-23T21:59:17.105492Z"
    }
   },
   "cell_type": "code",
   "source": [
    "# Make predictions\n",
    "y_predicted = nn_clf_2.predict(x_test)\n",
    "\n",
    "# Calculate accuracy\n",
    "accuracy = np.mean(y_predicted == y_test)\n",
    "print(f\"Test accuracy: {accuracy:.4f}\")"
   ],
   "id": "43aa83670bf50f30",
   "outputs": [
    {
     "name": "stdout",
     "output_type": "stream",
     "text": [
      "313/313 [==============================] - 1s 3ms/step\n",
      "Test accuracy: 0.9779\n"
     ]
    }
   ],
   "execution_count": 16
  },
  {
   "metadata": {
    "ExecuteTime": {
     "end_time": "2025-02-23T21:59:18.919137Z",
     "start_time": "2025-02-23T21:59:18.622150Z"
    }
   },
   "cell_type": "code",
   "source": "nn_clf_2.plot_learning_curves()",
   "id": "ad994dcc7bad6b61",
   "outputs": [
    {
     "data": {
      "text/plain": [
       "<Figure size 1000x600 with 1 Axes>"
      ],
      "image/png": "[encoded data removed]"
     },
     "metadata": {},
     "output_type": "display_data"
    }
   ],
   "execution_count": 17
  },
  {
   "metadata": {},
   "cell_type": "markdown",
   "source": "## Convolutional Neural Network Classifier",
   "id": "94c5378300b31108"
  },
  {
   "metadata": {
    "ExecuteTime": {
     "end_time": "2025-02-23T22:17:42.010482Z",
     "start_time": "2025-02-23T22:17:42.002838Z"
    }
   },
   "cell_type": "code",
   "source": [
    "class CNNClassifier(MnistClassifierInterface):\n",
    "    def __init__(self):\n",
    "        self.model = tf.keras.Sequential([\n",
    "            tf.keras.layers.Conv2D(32, 3, activation='relu', input_shape=(28, 28, 1)),\n",
    "            tf.keras.layers.MaxPooling2D(),\n",
    "            tf.keras.layers.Conv2D(64, 3, activation='relu'),\n",
    "            tf.keras.layers.MaxPooling2D(),\n",
    "            tf.keras.layers.Flatten(),\n",
    "            tf.keras.layers.Dense(128, activation='relu'),\n",
    "            tf.keras.layers.Dropout(0.2),\n",
    "            tf.keras.layers.Dense(10, activation='softmax')\n",
    "        ])\n",
    "        self.model.compile(optimizer='adam',\n",
    "                           loss='sparse_categorical_crossentropy',\n",
    "                           metrics=['accuracy'])\n",
    "        self.history = None\n",
    "\n",
    "    def train(self, x_train, y_train):\n",
    "        x_train = x_train.reshape(-1, 28, 28, 1)\n",
    "        self.model.fit(x_train, y_train, epochs=10)\n",
    "\n",
    "    def predict(self, x_test):\n",
    "        x_test = x_test.reshape(-1, 28, 28, 1)\n",
    "        return self.model.predict(x_test).argmax(axis=1)\n",
    "\n",
    "    def train_with_validation(self, x_train, y_train, x_val, y_val):\n",
    "        # Reshape input data\n",
    "        x_train = x_train.reshape(-1, 28, 28, 1)\n",
    "        x_val = x_val.reshape(-1, 28, 28, 1)\n",
    "\n",
    "        # Train with validation\n",
    "        history = self.model.fit(\n",
    "            x_train, y_train,\n",
    "            validation_data=(x_val, y_val),\n",
    "            epochs=20,\n",
    "            verbose=1\n",
    "        )\n",
    "        self.history = history.history\n",
    "\n",
    "    def plot_learning_curves(self):\n",
    "        plt.figure(figsize=(10, 6))\n",
    "        plt.plot(self.history['accuracy'], label='Training accuracy')\n",
    "        plt.plot(self.history['val_accuracy'], label='Validation accuracy')\n",
    "        plt.xlabel('Epoch')\n",
    "        plt.ylabel('Accuracy')\n",
    "        plt.title('Learning Curves for Convolutional Neural Network')\n",
    "        plt.legend()\n",
    "        plt.grid(True)\n",
    "        plt.show()"
   ],
   "id": "9b6f830ed3dcb0c7",
   "outputs": [],
   "execution_count": 5
  },
  {
   "metadata": {},
   "cell_type": "markdown",
   "source": "### Load and prepare data",
   "id": "54de089e1746216"
  },
  {
   "metadata": {
    "ExecuteTime": {
     "end_time": "2025-02-23T21:59:19.453946Z",
     "start_time": "2025-02-23T21:59:19.001838Z"
    }
   },
   "cell_type": "code",
   "source": [
    "# Load MNIST dataset\n",
    "(x_train, y_train), (x_test, y_test) = tf.keras.datasets.mnist.load_data()\n",
    "\n",
    "# See shapes\n",
    "print('X_train: ' + str(x_train.shape))\n",
    "print('Y_train: ' + str(y_train.shape))\n",
    "print('X_test:  '  + str(x_test.shape))\n",
    "print('Y_test:  '  + str(y_test.shape))"
   ],
   "id": "e052c8e03c43c47c",
   "outputs": [
    {
     "name": "stdout",
     "output_type": "stream",
     "text": [
      "X_train: (60000, 28, 28)\n",
      "Y_train: (60000,)\n",
      "X_test:  (10000, 28, 28)\n",
      "Y_test:  (10000,)\n"
     ]
    }
   ],
   "execution_count": 19
  },
  {
   "metadata": {
    "ExecuteTime": {
     "end_time": "2025-02-23T21:59:20.675086Z",
     "start_time": "2025-02-23T21:59:19.492094Z"
    }
   },
   "cell_type": "code",
   "source": [
    "# See pictures from dataset\n",
    "plt.figure(figsize=(5, 5))\n",
    "for i in range(9):\n",
    "    plt.subplot(330 + 1 + i)\n",
    "    plt.imshow(x_train[i], cmap=plt.get_cmap('gray'))\n",
    "plt.show()"
   ],
   "id": "344acf68589a1120",
   "outputs": [
    {
     "data": {
      "text/plain": [
       "<Figure size 500x500 with 9 Axes>"
      ],
      "image/png": "[encoded data removed]"
     },
     "metadata": {},
     "output_type": "display_data"
    }
   ],
   "execution_count": 20
  },
  {
   "metadata": {
    "ExecuteTime": {
     "end_time": "2025-02-23T21:59:21.181642Z",
     "start_time": "2025-02-23T21:59:20.714812Z"
    }
   },
   "cell_type": "code",
   "source": [
    "# Normalize pixel values\n",
    "if x_train.max() > 1.0:  # check if already normalized\n",
    "    x_train = x_train / 255.0\n",
    "    x_test = x_test / 255.0"
   ],
   "id": "68d970fe7ef47f55",
   "outputs": [],
   "execution_count": 21
  },
  {
   "metadata": {},
   "cell_type": "markdown",
   "source": "### Train and predict",
   "id": "7392fec2dd964b08"
  },
  {
   "metadata": {
    "ExecuteTime": {
     "end_time": "2025-02-23T21:59:21.450963Z",
     "start_time": "2025-02-23T21:59:21.241558Z"
    }
   },
   "cell_type": "code",
   "source": [
    "# Initialize and train NN classifier\n",
    "cnn_clf = CNNClassifier()\n",
    "cnn_clf.model.summary()"
   ],
   "id": "3767c0e4ce77639c",
   "outputs": [
    {
     "name": "stdout",
     "output_type": "stream",
     "text": [
      "Model: \"sequential_2\"\n",
      "_________________________________________________________________\n",
      " Layer (type)                Output Shape              Param #   \n",
      "=================================================================\n",
      " conv2d (Conv2D)             (None, 26, 26, 32)        320       \n",
      "                                                                 \n",
      " max_pooling2d (MaxPooling2D  (None, 13, 13, 32)       0         \n",
      " )                                                               \n",
      "                                                                 \n",
      " conv2d_1 (Conv2D)           (None, 11, 11, 64)        18496     \n",
      "                                                                 \n",
      " max_pooling2d_1 (MaxPooling  (None, 5, 5, 64)         0         \n",
      " 2D)                                                             \n",
      "                                                                 \n",
      " flatten_2 (Flatten)         (None, 1600)              0         \n",
      "                                                                 \n",
      " dense_6 (Dense)             (None, 128)               204928    \n",
      "                                                                 \n",
      " dropout_4 (Dropout)         (None, 128)               0         \n",
      "                                                                 \n",
      " dense_7 (Dense)             (None, 10)                1290      \n",
      "                                                                 \n",
      "=================================================================\n",
      "Total params: 225,034\n",
      "Trainable params: 225,034\n",
      "Non-trainable params: 0\n",
      "_________________________________________________________________\n"
     ]
    }
   ],
   "execution_count": 22
  },
  {
   "metadata": {
    "ExecuteTime": {
     "end_time": "2025-02-23T22:02:32.563567Z",
     "start_time": "2025-02-23T21:59:21.485874Z"
    }
   },
   "cell_type": "code",
   "source": [
    "# Train the model\n",
    "cnn_clf.train(x_train, y_train)"
   ],
   "id": "2ff985ec39fcb33c",
   "outputs": [
    {
     "name": "stdout",
     "output_type": "stream",
     "text": [
      "Epoch 1/10\n",
      "1875/1875 [==============================] - 23s 12ms/step - loss: 0.1490 - accuracy: 0.9543\n",
      "Epoch 2/10\n",
      "1875/1875 [==============================] - 22s 12ms/step - loss: 0.0521 - accuracy: 0.9842\n",
      "Epoch 3/10\n",
      "1875/1875 [==============================] - 23s 12ms/step - loss: 0.0368 - accuracy: 0.9885\n",
      "Epoch 4/10\n",
      "1875/1875 [==============================] - 23s 12ms/step - loss: 0.0284 - accuracy: 0.9913\n",
      "Epoch 5/10\n",
      "1875/1875 [==============================] - 23s 12ms/step - loss: 0.0225 - accuracy: 0.9926\n",
      "Epoch 6/10\n",
      "1875/1875 [==============================] - 23s 12ms/step - loss: 0.0181 - accuracy: 0.9944\n",
      "Epoch 7/10\n",
      "1875/1875 [==============================] - 14s 8ms/step - loss: 0.0161 - accuracy: 0.9950\n",
      "Epoch 8/10\n",
      "1875/1875 [==============================] - 14s 7ms/step - loss: 0.0146 - accuracy: 0.9949\n",
      "Epoch 9/10\n",
      "1875/1875 [==============================] - 14s 7ms/step - loss: 0.0121 - accuracy: 0.9960\n",
      "Epoch 10/10\n",
      "1875/1875 [==============================] - 13s 7ms/step - loss: 0.0110 - accuracy: 0.9963\n"
     ]
    }
   ],
   "execution_count": 23
  },
  {
   "metadata": {
    "ExecuteTime": {
     "end_time": "2025-02-23T22:02:33.498634Z",
     "start_time": "2025-02-23T22:02:32.596637Z"
    }
   },
   "cell_type": "code",
   "source": [
    "# Make predictions\n",
    "y_predicted = cnn_clf.predict(x_test)\n",
    "\n",
    "# Calculate accuracy\n",
    "accuracy = np.mean(y_predicted == y_test)\n",
    "print(f\"Test accuracy: {accuracy:.4f}\")"
   ],
   "id": "a6fbb2c03b03c192",
   "outputs": [
    {
     "name": "stdout",
     "output_type": "stream",
     "text": [
      "313/313 [==============================] - 1s 3ms/step\n",
      "Test accuracy: 0.9910\n"
     ]
    }
   ],
   "execution_count": 24
  },
  {
   "metadata": {},
   "cell_type": "markdown",
   "source": "### Visualisation of learning curves",
   "id": "4388c258bf2c3ad7"
  },
  {
   "metadata": {
    "ExecuteTime": {
     "end_time": "2025-02-23T22:08:36.184914Z",
     "start_time": "2025-02-23T22:02:33.498634Z"
    }
   },
   "cell_type": "code",
   "source": [
    "# Initialize and train CNN classifier\n",
    "cnn_clf_2 = CNNClassifier()\n",
    "cnn_clf_2.train_with_validation(x_train, y_train, x_test, y_test)"
   ],
   "id": "665ca122f89ec7f9",
   "outputs": [
    {
     "name": "stdout",
     "output_type": "stream",
     "text": [
      "Epoch 1/20\n",
      "1875/1875 [==============================] - 15s 8ms/step - loss: 0.1532 - accuracy: 0.9531 - val_loss: 0.0474 - val_accuracy: 0.9841\n",
      "Epoch 2/20\n",
      "1875/1875 [==============================] - 14s 7ms/step - loss: 0.0536 - accuracy: 0.9833 - val_loss: 0.0360 - val_accuracy: 0.9884\n",
      "Epoch 3/20\n",
      "1875/1875 [==============================] - 14s 7ms/step - loss: 0.0379 - accuracy: 0.9882 - val_loss: 0.0359 - val_accuracy: 0.9888\n",
      "Epoch 4/20\n",
      "1875/1875 [==============================] - 14s 8ms/step - loss: 0.0296 - accuracy: 0.9905 - val_loss: 0.0320 - val_accuracy: 0.9903\n",
      "Epoch 5/20\n",
      "1875/1875 [==============================] - 14s 7ms/step - loss: 0.0231 - accuracy: 0.9927 - val_loss: 0.0353 - val_accuracy: 0.9907\n",
      "Epoch 6/20\n",
      "1875/1875 [==============================] - 14s 7ms/step - loss: 0.0180 - accuracy: 0.9942 - val_loss: 0.0298 - val_accuracy: 0.9916\n",
      "Epoch 7/20\n",
      "1875/1875 [==============================] - 14s 7ms/step - loss: 0.0165 - accuracy: 0.9946 - val_loss: 0.0270 - val_accuracy: 0.9923\n",
      "Epoch 8/20\n",
      "1875/1875 [==============================] - 14s 7ms/step - loss: 0.0132 - accuracy: 0.9957 - val_loss: 0.0266 - val_accuracy: 0.9915\n",
      "Epoch 9/20\n",
      "1875/1875 [==============================] - 14s 8ms/step - loss: 0.0120 - accuracy: 0.9961 - val_loss: 0.0291 - val_accuracy: 0.9923\n",
      "Epoch 10/20\n",
      "1875/1875 [==============================] - 22s 12ms/step - loss: 0.0096 - accuracy: 0.9968 - val_loss: 0.0348 - val_accuracy: 0.9909\n",
      "Epoch 11/20\n",
      "1875/1875 [==============================] - 24s 13ms/step - loss: 0.0087 - accuracy: 0.9970 - val_loss: 0.0311 - val_accuracy: 0.9920\n",
      "Epoch 12/20\n",
      "1875/1875 [==============================] - 24s 13ms/step - loss: 0.0087 - accuracy: 0.9974 - val_loss: 0.0314 - val_accuracy: 0.9920\n",
      "Epoch 13/20\n",
      "1875/1875 [==============================] - 24s 13ms/step - loss: 0.0069 - accuracy: 0.9977 - val_loss: 0.0333 - val_accuracy: 0.9923\n",
      "Epoch 14/20\n",
      "1875/1875 [==============================] - 23s 12ms/step - loss: 0.0072 - accuracy: 0.9976 - val_loss: 0.0465 - val_accuracy: 0.9903\n",
      "Epoch 15/20\n",
      "1875/1875 [==============================] - 23s 12ms/step - loss: 0.0068 - accuracy: 0.9978 - val_loss: 0.0391 - val_accuracy: 0.9898\n",
      "Epoch 16/20\n",
      "1875/1875 [==============================] - 23s 12ms/step - loss: 0.0059 - accuracy: 0.9980 - val_loss: 0.0365 - val_accuracy: 0.9923\n",
      "Epoch 17/20\n",
      "1875/1875 [==============================] - 23s 12ms/step - loss: 0.0064 - accuracy: 0.9978 - val_loss: 0.0433 - val_accuracy: 0.9917\n",
      "Epoch 18/20\n",
      "1875/1875 [==============================] - 17s 9ms/step - loss: 0.0055 - accuracy: 0.9980 - val_loss: 0.0455 - val_accuracy: 0.9923\n",
      "Epoch 19/20\n",
      "1875/1875 [==============================] - 20s 11ms/step - loss: 0.0055 - accuracy: 0.9984 - val_loss: 0.0416 - val_accuracy: 0.9926\n",
      "Epoch 20/20\n",
      "1875/1875 [==============================] - 14s 8ms/step - loss: 0.0054 - accuracy: 0.9981 - val_loss: 0.0412 - val_accuracy: 0.9924\n"
     ]
    }
   ],
   "execution_count": 25
  },
  {
   "metadata": {
    "ExecuteTime": {
     "end_time": "2025-02-23T22:08:37.102695Z",
     "start_time": "2025-02-23T22:08:36.216958Z"
    }
   },
   "cell_type": "code",
   "source": [
    "# Make predictions\n",
    "y_predicted = cnn_clf_2.predict(x_test)\n",
    "\n",
    "# Calculate accuracy\n",
    "accuracy = np.mean(y_predicted == y_test)\n",
    "print(f\"Test accuracy: {accuracy:.4f}\")"
   ],
   "id": "580bca58f45bb2d0",
   "outputs": [
    {
     "name": "stdout",
     "output_type": "stream",
     "text": [
      "313/313 [==============================] - 1s 2ms/step\n",
      "Test accuracy: 0.9924\n"
     ]
    }
   ],
   "execution_count": 26
  },
  {
   "metadata": {
    "ExecuteTime": {
     "end_time": "2025-02-23T22:08:37.182075Z",
     "start_time": "2025-02-23T22:08:37.102695Z"
    }
   },
   "cell_type": "code",
   "source": "cnn_clf_2.plot_learning_curves()",
   "id": "4e6fdfe07b3984af",
   "outputs": [
    {
     "data": {
      "text/plain": [
       "<Figure size 1000x600 with 1 Axes>"
      ],
      "image/png": "[encoded data removed]"
     },
     "metadata": {},
     "output_type": "display_data"
    }
   ],
   "execution_count": 27
  },
  {
   "metadata": {},
   "cell_type": "markdown",
   "source": "## MnistClassifier",
   "id": "bdf61e7e89f52fb8"
  },
  {
   "metadata": {
    "ExecuteTime": {
     "end_time": "2025-02-23T22:17:51.193527Z",
     "start_time": "2025-02-23T22:17:51.177540Z"
    }
   },
   "cell_type": "code",
   "source": [
    "class MnistClassifier:\n",
    "    def __init__(self, algorithm: str = 'cnn'):\n",
    "        \"\"\"\n",
    "        Initialize MNIST classifier with specified algorithm\n",
    "\n",
    "        Args:\n",
    "            algorithm: One of ['cnn', 'rf', 'nn']\n",
    "        \"\"\"\n",
    "        self.algorithm = algorithm.lower()\n",
    "        self.models = {\n",
    "            'cnn': CNNClassifier,\n",
    "            'rf': RFClassifier,\n",
    "            'nn': NNClassifier\n",
    "        }\n",
    "\n",
    "        if self.algorithm not in self.models:\n",
    "            raise ValueError(f\"Algorithm must be one of {list(self.models.keys())}\")\n",
    "\n",
    "        self.model = self.models[self.algorithm]()\n",
    "\n",
    "    def train(self, x_train: np.ndarray, y_train: np.ndarray):\n",
    "        self.model.train(x_train, y_train)\n",
    "\n",
    "    def predict(self, x_test: np.ndarray):\n",
    "        return self.model.predict(x_test)"
   ],
   "id": "a57116131578a770",
   "outputs": [],
   "execution_count": 6
  },
  {
   "metadata": {},
   "cell_type": "markdown",
   "source": "### Load and prepare data",
   "id": "e3f62e4b9953834a"
  },
  {
   "metadata": {
    "ExecuteTime": {
     "end_time": "2025-02-23T22:17:55.143234Z",
     "start_time": "2025-02-23T22:17:54.967708Z"
    }
   },
   "cell_type": "code",
   "source": [
    "# Load MNIST dataset\n",
    "(training_images, training_labels), (test_images, test_labels) = tf.keras.datasets.mnist.load_data()\n",
    "\n",
    "# See shapes\n",
    "print('training_images: ' + str(training_images.shape))\n",
    "print('training_labels: ' + str(training_labels.shape))\n",
    "print('test_images:  '  + str(test_images.shape))\n",
    "print('test_labels:  '  + str(test_labels.shape))"
   ],
   "id": "348675fbbdef3ba3",
   "outputs": [
    {
     "name": "stdout",
     "output_type": "stream",
     "text": [
      "training_images: (60000, 28, 28)\n",
      "training_labels: (60000,)\n",
      "test_images:  (10000, 28, 28)\n",
      "test_labels:  (10000,)\n"
     ]
    }
   ],
   "execution_count": 7
  },
  {
   "metadata": {
    "ExecuteTime": {
     "end_time": "2025-02-23T22:17:58.191826Z",
     "start_time": "2025-02-23T22:17:57.924153Z"
    }
   },
   "cell_type": "code",
   "source": [
    "# See pictures from dataset\n",
    "plt.figure(figsize=(5, 5))\n",
    "for i in range(9):\n",
    "    plt.subplot(330 + 1 + i)\n",
    "    plt.imshow(training_images[i], cmap=plt.get_cmap('gray'))\n",
    "plt.show()"
   ],
   "id": "32066023f257c7d4",
   "outputs": [
    {
     "data": {
      "text/plain": [
       "<Figure size 500x500 with 9 Axes>"
      ],
      "image/png": "[encoded data removed]"
     },
     "metadata": {},
     "output_type": "display_data"
    }
   ],
   "execution_count": 8
  },
  {
   "metadata": {
    "ExecuteTime": {
     "end_time": "2025-02-23T22:18:02.296867Z",
     "start_time": "2025-02-23T22:18:02.137906Z"
    }
   },
   "cell_type": "code",
   "source": [
    "# Normalize pixel values\n",
    "if training_images.max() > 1.0:  # check if already normalized\n",
    "    training_images = training_images / 255.0\n",
    "    test_images = test_images / 255.0"
   ],
   "id": "b3219e5de0c54ad5",
   "outputs": [],
   "execution_count": 9
  },
  {
   "metadata": {},
   "cell_type": "markdown",
   "source": "### Testing the Implementation",
   "id": "fc454d7f63b07009"
  },
  {
   "metadata": {
    "ExecuteTime": {
     "end_time": "2025-02-23T22:20:36.972606Z",
     "start_time": "2025-02-23T22:18:04.659232Z"
    }
   },
   "cell_type": "code",
   "source": [
    "for algorithm in ['rf', 'nn', 'cnn']:\n",
    "    print(f\"\\nTesting {algorithm.upper()} classifier:\")\n",
    "    classifier = MnistClassifier(algorithm=algorithm)\n",
    "    classifier.train(training_images, training_labels)\n",
    "    predictions = classifier.predict(test_images)\n",
    "    accuracy = np.mean(predictions == test_labels)\n",
    "    print(f\"Test accuracy: {accuracy:.4f}\")\n",
    "    print('')"
   ],
   "id": "f23ed1d35ba42a80",
   "outputs": [
    {
     "name": "stdout",
     "output_type": "stream",
     "text": [
      "\n",
      "Testing RF classifier:\n",
      "Test accuracy: 0.9697\n",
      "\n",
      "\n",
      "Testing NN classifier:\n",
      "Epoch 1/10\n",
      "1875/1875 [==============================] - 2s 779us/step - loss: 0.3546 - accuracy: 0.8911\n",
      "Epoch 2/10\n",
      "1875/1875 [==============================] - 1s 773us/step - loss: 0.1838 - accuracy: 0.9434\n",
      "Epoch 3/10\n",
      "1875/1875 [==============================] - 1s 775us/step - loss: 0.1480 - accuracy: 0.9547\n",
      "Epoch 4/10\n",
      "1875/1875 [==============================] - 1s 778us/step - loss: 0.1317 - accuracy: 0.9598\n",
      "Epoch 5/10\n",
      "1875/1875 [==============================] - 2s 827us/step - loss: 0.1210 - accuracy: 0.9621\n",
      "Epoch 6/10\n",
      "1875/1875 [==============================] - 1s 772us/step - loss: 0.1118 - accuracy: 0.9649\n",
      "Epoch 7/10\n",
      "1875/1875 [==============================] - 1s 769us/step - loss: 0.1050 - accuracy: 0.9682\n",
      "Epoch 8/10\n",
      "1875/1875 [==============================] - 1s 769us/step - loss: 0.0992 - accuracy: 0.9685\n",
      "Epoch 9/10\n",
      "1875/1875 [==============================] - 1s 762us/step - loss: 0.0945 - accuracy: 0.9703\n",
      "Epoch 10/10\n",
      "1875/1875 [==============================] - 1s 768us/step - loss: 0.0913 - accuracy: 0.9699\n",
      "313/313 [==============================] - 0s 474us/step\n",
      "Test accuracy: 0.9760\n",
      "\n",
      "\n",
      "Testing CNN classifier:\n",
      "Epoch 1/10\n",
      "1875/1875 [==============================] - 13s 7ms/step - loss: 0.1416 - accuracy: 0.9569\n",
      "Epoch 2/10\n",
      "1875/1875 [==============================] - 13s 7ms/step - loss: 0.0499 - accuracy: 0.9844\n",
      "Epoch 3/10\n",
      "1875/1875 [==============================] - 13s 7ms/step - loss: 0.0353 - accuracy: 0.9893\n",
      "Epoch 4/10\n",
      "1875/1875 [==============================] - 13s 7ms/step - loss: 0.0271 - accuracy: 0.9914\n",
      "Epoch 5/10\n",
      "1875/1875 [==============================] - 13s 7ms/step - loss: 0.0210 - accuracy: 0.9931\n",
      "Epoch 6/10\n",
      "1875/1875 [==============================] - 13s 7ms/step - loss: 0.0165 - accuracy: 0.9946\n",
      "Epoch 7/10\n",
      "1875/1875 [==============================] - 13s 7ms/step - loss: 0.0139 - accuracy: 0.9952\n",
      "Epoch 8/10\n",
      "1875/1875 [==============================] - 13s 7ms/step - loss: 0.0118 - accuracy: 0.9961\n",
      "Epoch 9/10\n",
      "1875/1875 [==============================] - 13s 7ms/step - loss: 0.0105 - accuracy: 0.9966\n",
      "Epoch 10/10\n",
      "1875/1875 [==============================] - 13s 7ms/step - loss: 0.0099 - accuracy: 0.9970\n",
      "313/313 [==============================] - 1s 2ms/step\n",
      "Test accuracy: 0.9907\n",
      "\n"
     ]
    }
   ],
   "execution_count": 10
  },
  {
   "metadata": {},
   "cell_type": "code",
   "outputs": [],
   "execution_count": null,
   "source": "",
   "id": "1620247b9e33560f"
  }
 ],
 "metadata": {
  "kernelspec": {
   "display_name": "Python 3 (ipykernel)",
   "language": "python",
   "name": "python3"
  },
  "language_info": {
   "codemirror_mode": {
    "name": "ipython",
    "version": 2
   },
   "file_extension": ".py",
   "mimetype": "text/x-python",
   "name": "python",
   "nbconvert_exporter": "python",
   "pygments_lexer": "ipython2",
   "version": "2.7.6"
  }
 },
 "nbformat": 4,
 "nbformat_minor": 5
}
